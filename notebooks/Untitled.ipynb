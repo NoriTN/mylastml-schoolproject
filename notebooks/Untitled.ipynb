{
 "cells": [
  {
   "cell_type": "code",
   "execution_count": 20,
   "id": "a16f475e-3eef-499b-92f0-009c6e93210e",
   "metadata": {},
   "outputs": [],
   "source": [
    "import sklearn\n",
    "import numpy as np\n",
    "import pandas as pd\n",
    "import pickle\n",
    "import os\n",
    "\n",
    "\n",
    "def inference_model(model_path, data):\n",
    "    model_pkl = pickle.load(open(model_path, 'rb'))\n",
    "    y_pred = model_pkl.predict(data)\n",
    "    return y_pred"
   ]
  },
  {
   "cell_type": "code",
   "execution_count": 23,
   "id": "bd6f0a97-1940-43c8-9648-92c532b8d0a5",
   "metadata": {},
   "outputs": [],
   "source": [
    "def list_models(model_dir):\n",
    "\n",
    "    # Vérifier si le dossier existe\n",
    "    if not os.path.exists(model_dir):\n",
    "        print(f\"Le dossier '{model_dir}' n'existe pas.\")\n",
    "        return []\n",
    "\n",
    "    # Parcourir les sous-dossiers dans le dossier 'regressor.pickle'\n",
    "    models = []\n",
    "    for subdir in os.listdir(model_dir):\n",
    "        subdir_path = os.path.join(model_dir, subdir)\n",
    "\n",
    "        # Vérifier si c'est un dossier\n",
    "        if os.path.isdir(subdir_path):\n",
    "            # Récupérer tous les fichiers dans le sous-dossier\n",
    "            files = os.listdir(subdir_path)\n",
    "\n",
    "            # Vérifier si le modèle 'regressor.pickle' est présent dans le sous-dossier\n",
    "            if 'regressor.pickle' in files:\n",
    "                model_path = os.path.join(subdir_path, 'regressor.pickle')\n",
    "                models.append(model_path)\n",
    "\n",
    "    return models"
   ]
  },
  {
   "cell_type": "code",
   "execution_count": 26,
   "id": "04758fd7-6873-47e8-bd39-248bbbe7a491",
   "metadata": {},
   "outputs": [],
   "source": [
    "models = list_models(\"/Users/franchouillard/Documents/GitHub/HousePriceKedro/data/06_models/regressor.pickle\")"
   ]
  },
  {
   "cell_type": "code",
   "execution_count": 25,
   "id": "35a63497-fa91-4523-a4f5-1eb204f83540",
   "metadata": {},
   "outputs": [],
   "source": [
    "import os\n",
    "\n",
    "def get_latest_model(models):\n",
    "    # Trier les modèles par ordre décroissant en utilisant le nom du dossier\n",
    "    sorted_models = sorted(models, key=lambda x: x.split(\"/\")[-2], reverse=True)\n",
    "    \n",
    "    if sorted_models:\n",
    "        # Récupérer le dernier modèle (premier élément de la liste triée)\n",
    "        latest_model = sorted_models[0]\n",
    "        return latest_model\n",
    "    \n",
    "    return None\n"
   ]
  },
  {
   "cell_type": "code",
   "execution_count": 27,
   "id": "ad27a5eb-7576-4267-b685-288e60100343",
   "metadata": {},
   "outputs": [
    {
     "data": {
      "text/plain": [
       "'/Users/franchouillard/Documents/GitHub/HousePriceKedro/data/06_models/regressor.pickle/2023-07-06T07.18.03.032Z/regressor.pickle'"
      ]
     },
     "execution_count": 27,
     "metadata": {},
     "output_type": "execute_result"
    }
   ],
   "source": [
    "get_latest_model(models)"
   ]
  },
  {
   "cell_type": "code",
   "execution_count": 3,
   "id": "ad02e73e-b214-4af9-9e7d-fda6acad0168",
   "metadata": {},
   "outputs": [],
   "source": [
    "data = pd.read_csv(\"/Users/franchouillard/Documents/GitHub/HousePriceKedro/data/05_model_input/X_test.csv\")"
   ]
  },
  {
   "cell_type": "code",
   "execution_count": 14,
   "id": "71a4f009-40ed-4948-b98a-4c3b0b4e27ee",
   "metadata": {},
   "outputs": [],
   "source": [
    "model_path = \"/Users/franchouillard/Documents/GitHub/HousePriceKedro/data/06_models/regressor.pickle/2023-07-06T07.18.03.032Z/regressor.pickle\""
   ]
  },
  {
   "cell_type": "code",
   "execution_count": 29,
   "id": "fd38787a-5f53-466e-92c0-bdbe4dfb35b5",
   "metadata": {},
   "outputs": [
    {
     "data": {
      "text/plain": [
       "array([2.57179012, 2.54739772, 2.58818409, 2.56327072, 2.55926396,\n",
       "       2.56110257, 2.5705882 , 2.54133763, 2.56697831, 2.56286817,\n",
       "       2.57145754, 2.60021614, 2.56040086, 2.56460605, 2.57766699,\n",
       "       2.57712376, 2.52531728, 2.56016168, 2.55119602, 2.54361881,\n",
       "       2.55786829, 2.5470246 , 2.5891488 , 2.57025676, 2.60021614,\n",
       "       2.58669525, 2.55601664, 2.58031489, 2.56345593, 2.54940724,\n",
       "       2.55884021, 2.60533987, 2.57712376, 2.55119602, 2.58026549,\n",
       "       2.56325354, 2.55626553, 2.52531728, 2.58026549, 2.56808887,\n",
       "       2.59957365, 2.54739772, 2.56494311, 2.58466729, 2.60533987,\n",
       "       2.57200212, 2.5301285 , 2.5301285 , 2.57712376, 2.53790743,\n",
       "       2.56623398, 2.5997077 , 2.55288553, 2.56475064, 2.56574003,\n",
       "       2.56915548, 2.58026549, 2.56345593, 2.56100383, 2.61005719,\n",
       "       2.5997077 , 2.58824846, 2.57431456, 2.57576401, 2.55014056,\n",
       "       2.57152906, 2.59957365, 2.60130284, 2.58824846, 2.541334  ,\n",
       "       2.56040086, 2.541334  , 2.55415649, 2.55888475, 2.56945618,\n",
       "       2.55024568, 2.56574003, 2.55024568, 2.56016168, 2.56145631,\n",
       "       2.58133507, 2.55554384, 2.56806888, 2.55259009, 2.5565697 ,\n",
       "       2.58857221, 2.57968942, 2.54739772, 2.56110257, 2.57968942,\n",
       "       2.56460605, 2.56327072, 2.56327072, 2.55059408, 2.55712941,\n",
       "       2.58133507, 2.59178304, 2.52531728, 2.56945618, 2.56285703,\n",
       "       2.56623398, 2.58133507, 2.56623398, 2.55940026, 2.54940724,\n",
       "       2.59094428, 2.58824846, 2.57179012, 2.58026549, 2.55481408,\n",
       "       2.57152906, 2.57128216, 2.54361881, 2.55059408, 2.57407554,\n",
       "       2.56808887, 2.58857221, 2.58818409, 2.58857221, 2.58026549,\n",
       "       2.58026549, 2.59102965, 2.58154679, 2.56475064, 2.58824846,\n",
       "       2.57968942, 2.57968942, 2.5705882 , 2.56110257, 2.57283161,\n",
       "       2.54739772, 2.58824846, 2.57966992, 2.52531728, 2.59094428,\n",
       "       2.54552604, 2.56110257, 2.53252226, 2.56713517, 2.57025676,\n",
       "       2.56656614, 2.56266863, 2.55884021, 2.57766699, 2.56125103,\n",
       "       2.56924816, 2.58551774, 2.53790743, 2.5301285 , 2.58309899,\n",
       "       2.60130284, 2.57734809, 2.59241309, 2.57145754, 2.58857221,\n",
       "       2.56924816, 2.56286817, 2.58857221, 2.56155969, 2.5607493 ,\n",
       "       2.55024568, 2.56110257, 2.61005719, 2.55601664, 2.56806888,\n",
       "       2.55954724, 2.56574003, 2.54691245, 2.5301285 , 2.59102965,\n",
       "       2.59178304, 2.56962119, 2.55786829, 2.57690065, 2.56212806,\n",
       "       2.58551774, 2.56907455, 2.56016168, 2.54552604, 2.58824846,\n",
       "       2.59178304, 2.55884021, 2.57810471, 2.54940724, 2.56155969,\n",
       "       2.58154679, 2.55481408, 2.56212806, 2.55024568, 2.56213018,\n",
       "       2.57335461, 2.56040086, 2.58824846, 2.5770767 , 2.57200212,\n",
       "       2.57690065, 2.56212806, 2.55119602, 2.5607493 , 2.54739772,\n",
       "       2.58026549, 2.56016168, 2.58031489, 2.57179012, 2.56213018,\n",
       "       2.56145631, 2.59102965, 2.60138915, 2.55958958, 2.55211569,\n",
       "       2.55626553, 2.57028501, 2.58026549, 2.56110257, 2.57152906,\n",
       "       2.56945618, 2.56285703, 2.56125103, 2.54381632, 2.5651759 ,\n",
       "       2.55661081, 2.55119602, 2.5705882 , 2.55786829, 2.55288553,\n",
       "       2.54910327, 2.57025676, 2.54936158, 2.57712376, 2.55601664,\n",
       "       2.54519242, 2.57765146, 2.57152906, 2.5565697 , 2.56808887,\n",
       "       2.5607493 , 2.57758067, 2.55661081, 2.58309899, 2.55059408,\n",
       "       2.56285703, 2.57734809, 2.5838082 , 2.55786829, 2.59957365,\n",
       "       2.5770767 , 2.55024568, 2.56016168, 2.55024568, 2.56697831,\n",
       "       2.58226004, 2.54858974, 2.5691819 , 2.541334  , 2.55926396,\n",
       "       2.5705882 , 2.56942451, 2.5470246 , 2.58824846, 2.56285703,\n",
       "       2.58658899, 2.56016168, 2.56212806, 2.58031489, 2.58031489,\n",
       "       2.5470246 , 2.58824846, 2.55119602, 2.58551774, 2.58824846,\n",
       "       2.58687891, 2.59786637, 2.55954724, 2.58551774, 2.54936158,\n",
       "       2.55059408, 2.55554384, 2.55940026, 2.58026549, 2.56016168,\n",
       "       2.55059408, 2.59094428, 2.57296656, 2.53790743, 2.56286817,\n",
       "       2.57810471, 2.54133763, 2.58343679, 2.56656614, 2.56155969,\n",
       "       2.56663894, 2.57335461])"
      ]
     },
     "execution_count": 29,
     "metadata": {},
     "output_type": "execute_result"
    }
   ],
   "source": [
    "inference_model(model_path, data)"
   ]
  },
  {
   "cell_type": "code",
   "execution_count": 6,
   "id": "2e21b7c8-b57b-4962-af51-3a4a78f3ffbf",
   "metadata": {},
   "outputs": [
    {
     "data": {
      "text/html": [
       "<div>\n",
       "<style scoped>\n",
       "    .dataframe tbody tr th:only-of-type {\n",
       "        vertical-align: middle;\n",
       "    }\n",
       "\n",
       "    .dataframe tbody tr th {\n",
       "        vertical-align: top;\n",
       "    }\n",
       "\n",
       "    .dataframe thead th {\n",
       "        text-align: right;\n",
       "    }\n",
       "</style>\n",
       "<table border=\"1\" class=\"dataframe\">\n",
       "  <thead>\n",
       "    <tr style=\"text-align: right;\">\n",
       "      <th></th>\n",
       "      <th>LotArea</th>\n",
       "      <th>PoolArea</th>\n",
       "    </tr>\n",
       "  </thead>\n",
       "  <tbody>\n",
       "    <tr>\n",
       "      <th>0</th>\n",
       "      <td>10500</td>\n",
       "      <td>0</td>\n",
       "    </tr>\n",
       "    <tr>\n",
       "      <th>1</th>\n",
       "      <td>7200</td>\n",
       "      <td>0</td>\n",
       "    </tr>\n",
       "    <tr>\n",
       "      <th>2</th>\n",
       "      <td>11317</td>\n",
       "      <td>0</td>\n",
       "    </tr>\n",
       "    <tr>\n",
       "      <th>3</th>\n",
       "      <td>10800</td>\n",
       "      <td>0</td>\n",
       "    </tr>\n",
       "    <tr>\n",
       "      <th>4</th>\n",
       "      <td>7032</td>\n",
       "      <td>0</td>\n",
       "    </tr>\n",
       "    <tr>\n",
       "      <th>...</th>\n",
       "      <td>...</td>\n",
       "      <td>...</td>\n",
       "    </tr>\n",
       "    <tr>\n",
       "      <th>287</th>\n",
       "      <td>13682</td>\n",
       "      <td>0</td>\n",
       "    </tr>\n",
       "    <tr>\n",
       "      <th>288</th>\n",
       "      <td>5100</td>\n",
       "      <td>0</td>\n",
       "    </tr>\n",
       "    <tr>\n",
       "      <th>289</th>\n",
       "      <td>4456</td>\n",
       "      <td>0</td>\n",
       "    </tr>\n",
       "    <tr>\n",
       "      <th>290</th>\n",
       "      <td>9492</td>\n",
       "      <td>0</td>\n",
       "    </tr>\n",
       "    <tr>\n",
       "      <th>291</th>\n",
       "      <td>9180</td>\n",
       "      <td>0</td>\n",
       "    </tr>\n",
       "  </tbody>\n",
       "</table>\n",
       "<p>292 rows × 2 columns</p>\n",
       "</div>"
      ],
      "text/plain": [
       "     LotArea  PoolArea\n",
       "0      10500         0\n",
       "1       7200         0\n",
       "2      11317         0\n",
       "3      10800         0\n",
       "4       7032         0\n",
       "..       ...       ...\n",
       "287    13682         0\n",
       "288     5100         0\n",
       "289     4456         0\n",
       "290     9492         0\n",
       "291     9180         0\n",
       "\n",
       "[292 rows x 2 columns]"
      ]
     },
     "execution_count": 6,
     "metadata": {},
     "output_type": "execute_result"
    }
   ],
   "source": [
    "data"
   ]
  },
  {
   "cell_type": "code",
   "execution_count": 5,
   "id": "e5cc9b70-1806-44b4-bf53-9303b28fcb10",
   "metadata": {},
   "outputs": [
    {
     "data": {
      "text/html": [
       "<pre style=\"white-space:pre;overflow-x:auto;line-height:normal;font-family:Menlo,'DejaVu Sans Mono',consolas,'Courier New',monospace\"><span style=\"color: #800000; text-decoration-color: #800000\">╭─────────────────────────────── </span><span style=\"color: #800000; text-decoration-color: #800000; font-weight: bold\">Traceback </span><span style=\"color: #bf7f7f; text-decoration-color: #bf7f7f; font-weight: bold\">(most recent call last)</span><span style=\"color: #800000; text-decoration-color: #800000\"> ────────────────────────────────╮</span>\n",
       "<span style=\"color: #800000; text-decoration-color: #800000\">│</span> in <span style=\"color: #00ff00; text-decoration-color: #00ff00\">&lt;module&gt;</span>:<span style=\"color: #0000ff; text-decoration-color: #0000ff\">1</span>                                                                                    <span style=\"color: #800000; text-decoration-color: #800000\">│</span>\n",
       "<span style=\"color: #800000; text-decoration-color: #800000\">│</span>                                                                                                  <span style=\"color: #800000; text-decoration-color: #800000\">│</span>\n",
       "<span style=\"color: #800000; text-decoration-color: #800000\">│</span> <span style=\"color: #800000; text-decoration-color: #800000\">❱ </span>1 inference_model(<span style=\"color: #808000; text-decoration-color: #808000\">\"/Users/franchouillard/Documents/GitHub/HousePriceKedro/data/06_models/r</span>     <span style=\"color: #800000; text-decoration-color: #800000\">│</span>\n",
       "<span style=\"color: #800000; text-decoration-color: #800000\">│</span>   <span style=\"color: #7f7f7f; text-decoration-color: #7f7f7f\">2 </span>                                                                                             <span style=\"color: #800000; text-decoration-color: #800000\">│</span>\n",
       "<span style=\"color: #800000; text-decoration-color: #800000\">│</span>                                                                                                  <span style=\"color: #800000; text-decoration-color: #800000\">│</span>\n",
       "<span style=\"color: #800000; text-decoration-color: #800000\">│</span> in <span style=\"color: #00ff00; text-decoration-color: #00ff00\">inference_model</span>:<span style=\"color: #0000ff; text-decoration-color: #0000ff\">8</span>                                                                             <span style=\"color: #800000; text-decoration-color: #800000\">│</span>\n",
       "<span style=\"color: #800000; text-decoration-color: #800000\">│</span>                                                                                                  <span style=\"color: #800000; text-decoration-color: #800000\">│</span>\n",
       "<span style=\"color: #800000; text-decoration-color: #800000\">│</span>   <span style=\"color: #7f7f7f; text-decoration-color: #7f7f7f\"> 5 </span>                                                                                            <span style=\"color: #800000; text-decoration-color: #800000\">│</span>\n",
       "<span style=\"color: #800000; text-decoration-color: #800000\">│</span>   <span style=\"color: #7f7f7f; text-decoration-color: #7f7f7f\"> 6 </span>                                                                                            <span style=\"color: #800000; text-decoration-color: #800000\">│</span>\n",
       "<span style=\"color: #800000; text-decoration-color: #800000\">│</span>   <span style=\"color: #7f7f7f; text-decoration-color: #7f7f7f\"> 7 </span><span style=\"color: #0000ff; text-decoration-color: #0000ff\">def</span> <span style=\"color: #00ff00; text-decoration-color: #00ff00\">inference_model</span>(model_path, data):                                                      <span style=\"color: #800000; text-decoration-color: #800000\">│</span>\n",
       "<span style=\"color: #800000; text-decoration-color: #800000\">│</span> <span style=\"color: #800000; text-decoration-color: #800000\">❱ </span> 8 <span style=\"color: #7f7f7f; text-decoration-color: #7f7f7f\">│   </span>model_pkl = sklearn.externals.joblib.load(model_path)                                   <span style=\"color: #800000; text-decoration-color: #800000\">│</span>\n",
       "<span style=\"color: #800000; text-decoration-color: #800000\">│</span>   <span style=\"color: #7f7f7f; text-decoration-color: #7f7f7f\"> 9 </span><span style=\"color: #7f7f7f; text-decoration-color: #7f7f7f\">│   </span>y_pred = model_pkl.predict(data)                                                        <span style=\"color: #800000; text-decoration-color: #800000\">│</span>\n",
       "<span style=\"color: #800000; text-decoration-color: #800000\">│</span>   <span style=\"color: #7f7f7f; text-decoration-color: #7f7f7f\">10 </span><span style=\"color: #7f7f7f; text-decoration-color: #7f7f7f\">│   </span><span style=\"color: #0000ff; text-decoration-color: #0000ff\">return</span> y_pred                                                                           <span style=\"color: #800000; text-decoration-color: #800000\">│</span>\n",
       "<span style=\"color: #800000; text-decoration-color: #800000\">│</span>   <span style=\"color: #7f7f7f; text-decoration-color: #7f7f7f\">11 </span>                                                                                            <span style=\"color: #800000; text-decoration-color: #800000\">│</span>\n",
       "<span style=\"color: #800000; text-decoration-color: #800000\">╰──────────────────────────────────────────────────────────────────────────────────────────────────╯</span>\n",
       "<span style=\"color: #ff0000; text-decoration-color: #ff0000; font-weight: bold\">AttributeError: </span>module <span style=\"color: #008000; text-decoration-color: #008000\">'sklearn.externals'</span> has no attribute <span style=\"color: #008000; text-decoration-color: #008000\">'joblib'</span>\n",
       "</pre>\n"
      ],
      "text/plain": [
       "\u001b[31m╭─\u001b[0m\u001b[31m──────────────────────────────\u001b[0m\u001b[31m \u001b[0m\u001b[1;31mTraceback \u001b[0m\u001b[1;2;31m(most recent call last)\u001b[0m\u001b[31m \u001b[0m\u001b[31m───────────────────────────────\u001b[0m\u001b[31m─╮\u001b[0m\n",
       "\u001b[31m│\u001b[0m in \u001b[92m<module>\u001b[0m:\u001b[94m1\u001b[0m                                                                                    \u001b[31m│\u001b[0m\n",
       "\u001b[31m│\u001b[0m                                                                                                  \u001b[31m│\u001b[0m\n",
       "\u001b[31m│\u001b[0m \u001b[31m❱ \u001b[0m1 inference_model(\u001b[33m\"\u001b[0m\u001b[33m/Users/franchouillard/Documents/GitHub/HousePriceKedro/data/06_models/r\u001b[0m     \u001b[31m│\u001b[0m\n",
       "\u001b[31m│\u001b[0m   \u001b[2m2 \u001b[0m                                                                                             \u001b[31m│\u001b[0m\n",
       "\u001b[31m│\u001b[0m                                                                                                  \u001b[31m│\u001b[0m\n",
       "\u001b[31m│\u001b[0m in \u001b[92minference_model\u001b[0m:\u001b[94m8\u001b[0m                                                                             \u001b[31m│\u001b[0m\n",
       "\u001b[31m│\u001b[0m                                                                                                  \u001b[31m│\u001b[0m\n",
       "\u001b[31m│\u001b[0m   \u001b[2m 5 \u001b[0m                                                                                            \u001b[31m│\u001b[0m\n",
       "\u001b[31m│\u001b[0m   \u001b[2m 6 \u001b[0m                                                                                            \u001b[31m│\u001b[0m\n",
       "\u001b[31m│\u001b[0m   \u001b[2m 7 \u001b[0m\u001b[94mdef\u001b[0m \u001b[92minference_model\u001b[0m(model_path, data):                                                      \u001b[31m│\u001b[0m\n",
       "\u001b[31m│\u001b[0m \u001b[31m❱ \u001b[0m 8 \u001b[2m│   \u001b[0mmodel_pkl = sklearn.externals.joblib.load(model_path)                                   \u001b[31m│\u001b[0m\n",
       "\u001b[31m│\u001b[0m   \u001b[2m 9 \u001b[0m\u001b[2m│   \u001b[0my_pred = model_pkl.predict(data)                                                        \u001b[31m│\u001b[0m\n",
       "\u001b[31m│\u001b[0m   \u001b[2m10 \u001b[0m\u001b[2m│   \u001b[0m\u001b[94mreturn\u001b[0m y_pred                                                                           \u001b[31m│\u001b[0m\n",
       "\u001b[31m│\u001b[0m   \u001b[2m11 \u001b[0m                                                                                            \u001b[31m│\u001b[0m\n",
       "\u001b[31m╰──────────────────────────────────────────────────────────────────────────────────────────────────╯\u001b[0m\n",
       "\u001b[1;91mAttributeError: \u001b[0mmodule \u001b[32m'sklearn.externals'\u001b[0m has no attribute \u001b[32m'joblib'\u001b[0m\n"
      ]
     },
     "metadata": {},
     "output_type": "display_data"
    }
   ],
   "source": [
    "inference_model(\"/Users/franchouillard/Documents/GitHub/HousePriceKedro/data/06_models/regressor.pickle/2023-07-06T06.27.27.882Z/regressor.pickle\", data)"
   ]
  },
  {
   "cell_type": "code",
   "execution_count": null,
   "id": "a8d19511-1a7d-4713-bf62-c5d3c17704a1",
   "metadata": {},
   "outputs": [],
   "source": []
  }
 ],
 "metadata": {
  "kernelspec": {
   "display_name": "Kedro (spaceflights)",
   "language": "python",
   "name": "kedro_spaceflights"
  },
  "language_info": {
   "codemirror_mode": {
    "name": "ipython",
    "version": 3
   },
   "file_extension": ".py",
   "mimetype": "text/x-python",
   "name": "python",
   "nbconvert_exporter": "python",
   "pygments_lexer": "ipython3",
   "version": "3.8.10"
  }
 },
 "nbformat": 4,
 "nbformat_minor": 5
}
